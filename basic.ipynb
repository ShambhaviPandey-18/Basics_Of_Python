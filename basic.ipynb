{
 "cells": [
  {
   "cell_type": "code",
   "execution_count": 1,
   "id": "d50b294e",
   "metadata": {},
   "outputs": [
    {
     "name": "stdout",
     "output_type": "stream",
     "text": [
      "hello world\n"
     ]
    }
   ],
   "source": [
    "print(\"hello world\")\n"
   ]
  },
  {
   "cell_type": "code",
   "execution_count": 2,
   "id": "9b1d7098",
   "metadata": {},
   "outputs": [
    {
     "name": "stdout",
     "output_type": "stream",
     "text": [
      "140727404612152 140727404612184 140727404612216\n"
     ]
    }
   ],
   "source": [
    "x=5\n",
    "y=6\n",
    "z=7\n",
    "print(id(x),id(y),id(z))"
   ]
  },
  {
   "cell_type": "code",
   "execution_count": null,
   "id": "b500a239",
   "metadata": {},
   "outputs": [],
   "source": [
    "name = eval(input(\"Enter your name: \"))\n",
    "age = int(input(\"Enter your age:\"))\n",
    "height = float(input(\"Enter your height: \"))\n",
    "print(name)\n",
    "print(age)\n",
    "print(height)\n",
    "print(type(name),type(age),type(height))"
   ]
  },
  {
   "cell_type": "code",
   "execution_count": null,
   "id": "13f978c9",
   "metadata": {},
   "outputs": [
    {
     "name": "stdout",
     "output_type": "stream",
     "text": [
      "12\n",
      "14\n"
     ]
    }
   ],
   "source": [
    "l = int(input(\"Enter the length of the rectangle : \"))\n",
    "b = int(input(\"Enter the breadth of the rectangle: \"))\n",
    "area = l*b\n",
    "print(area)\n",
    "perimeter= 2*(l+b)\n",
    "print(perimeter)"
   ]
  },
  {
   "cell_type": "code",
   "execution_count": null,
   "id": "0744788d",
   "metadata": {},
   "outputs": [],
   "source": [
    "age = int(input(\"Enter your age : \"))\n",
    "if(age>=18):\n",
    "    print(\"You can vote.\")\n",
    "\n",
    "else:\n",
    "    print(\"You can not vote.\")\n"
   ]
  },
  {
   "cell_type": "code",
   "execution_count": null,
   "id": "413f85d6",
   "metadata": {},
   "outputs": [
    {
     "name": "stdout",
     "output_type": "stream",
     "text": [
      "Senior\n"
     ]
    }
   ],
   "source": [
    "age = int(input(\"Enter your age :\"))\n",
    "if(age<=12):\n",
    "    print(\"Child\")\n",
    "elif(13<age<19):\n",
    "    print(\"teen\")\n",
    "elif(age<=45):\n",
    "    print(\"adult\")\n",
    "else:\n",
    "    print(\"Senior\")\n"
   ]
  },
  {
   "cell_type": "code",
   "execution_count": null,
   "id": "fc8be36c",
   "metadata": {},
   "outputs": [],
   "source": [
    "n = int(input(\"Enter the number :\"))\n",
    "if(n%3==0 and n%5 == 0):\n",
    "    print(\"fizzbuzz\")\n",
    "elif(n%5 == 0):\n",
    "    print(\"buzz\")\n",
    "elif(n%3 == 0):\n",
    "    print(\"fizz\")\n",
    "else:\n",
    "    print(\"not divisible\")"
   ]
  },
  {
   "cell_type": "code",
   "execution_count": null,
   "id": "55fe2555",
   "metadata": {},
   "outputs": [
    {
     "name": "stdout",
     "output_type": "stream",
     "text": [
      "4 6 7\n"
     ]
    }
   ],
   "source": [
    "a = int(input(\"Enter the 1st number:\"))\n",
    "b = int(input(\"Enter the 2nd number:\"))\n",
    "c = int(input(\"Enter the 3rd number:\"))\n",
    "if(a < b and b < c):\n",
    "    print(a,b,c)\n",
    "elif(a<c and c<b):\n",
    "    print(a,c,b)\n",
    "elif(b<a and a<c):\n",
    "    print(b,a,c)\n",
    "elif(b<c and c<a):\n",
    "    print(b,c,a)\n",
    "elif(c<b and b<a):\n",
    "    print(c,b,a)\n",
    "else:\n",
    "    print(c,a,b)\n"
   ]
  },
  {
   "cell_type": "code",
   "execution_count": null,
   "id": "cb9cec82",
   "metadata": {},
   "outputs": [
    {
     "name": "stdout",
     "output_type": "stream",
     "text": [
      "Total electricity bill is : 309.0\n"
     ]
    }
   ],
   "source": [
    "units = int(input(\"Enter the electricity unit charges :\"))\n",
    "bill = 0\n",
    "if(units<=50):\n",
    "    bill = units*0.50\n",
    "elif(units<=200):\n",
    "    bill = 50*0.50 + (units-50)*0.75\n",
    "elif(units<=450):\n",
    "    bill = 50*0.50 + 150*0.75 + (units-200)*1.20\n",
    "else:\n",
    "    bill = 50*0.50 + 150*0.75 +250*1.50 + (units-450)*1.5\n",
    "totalBill = bill+bill*0.2\n",
    "print(\"Total electricity bill is :\",totalBill)\n",
    "\n"
   ]
  },
  {
   "cell_type": "code",
   "execution_count": null,
   "id": "b958cdbd",
   "metadata": {},
   "outputs": [
    {
     "name": "stdout",
     "output_type": "stream",
     "text": [
      "Summer\n"
     ]
    }
   ],
   "source": [
    "month = int(input(\"Enter the number of month :\"))\n",
    "if(3<=month and month<=5):\n",
    "    print(\"Spring\")\n",
    "elif(6<=month and month<=8):\n",
    "    print(\"Summer\")\n",
    "elif(9<=month and month<=11):\n",
    "    print(\"Autumn\")\n",
    "elif(month ==1 and month==2 ):\n",
    "    print(\"winter\")\n",
    "else:\n",
    "    print(\"winter\")"
   ]
  },
  {
   "cell_type": "code",
   "execution_count": null,
   "id": "32f0acb6",
   "metadata": {},
   "outputs": [
    {
     "name": "stdout",
     "output_type": "stream",
     "text": [
      "510\n"
     ]
    }
   ],
   "source": [
    "km = int(input(\"Enter the kiloometers covered:\"))\n",
    "bill = 0\n",
    "if(km <=10):\n",
    "    bill = km *11\n",
    "elif( km >=10):\n",
    "    bill = 10*11 + (km - 10)*10\n",
    "else:\n",
    "    bill = 10*11 + 100*10 + (km - 100)*9\n",
    "print(bill)"
   ]
  },
  {
   "cell_type": "code",
   "execution_count": null,
   "id": "b650b4df",
   "metadata": {},
   "outputs": [
    {
     "name": "stdout",
     "output_type": "stream",
     "text": [
      "1 3 5 7 9 11 13 15 17 19 "
     ]
    }
   ],
   "source": [
    "#While loop\n",
    "n=1\n",
    "while(n<=19):\n",
    "    print(n,end = \" \")\n",
    "    n+=2"
   ]
  },
  {
   "cell_type": "code",
   "execution_count": null,
   "id": "f5594190",
   "metadata": {},
   "outputs": [
    {
     "name": "stdout",
     "output_type": "stream",
     "text": [
      "110\n",
      "100\n"
     ]
    }
   ],
   "source": [
    "n=1\n",
    "esum=0\n",
    "osum=0\n",
    "while(n<=20):\n",
    " if(n%2 == 0):\n",
    "  esum += n\n",
    " else:\n",
    "  osum += n\n",
    " n+=1\n",
    "\n",
    "\n",
    "print(esum)\n",
    "print(osum)\n"
   ]
  },
  {
   "cell_type": "code",
   "execution_count": null,
   "id": "b60f027a",
   "metadata": {},
   "outputs": [
    {
     "name": "stdout",
     "output_type": "stream",
     "text": [
      "1 2 3 4 6 12 \n",
      "\n",
      "24\n",
      "4\n"
     ]
    }
   ],
   "source": [
    "n = int(input(\"Enter the number:\"))\n",
    "i=1\n",
    "esum=0\n",
    "osum=0\n",
    "while(i<=n):\n",
    "    if(n%i ==0):\n",
    "        print(i,end=\" \")\n",
    "        if( i%2==0):\n",
    "          esum +=i\n",
    "        else:\n",
    "          osum +=i\n",
    "    i+=1\n",
    "print(\"\\n\")\n",
    "print(esum)\n",
    "print(osum)\n"
   ]
  },
  {
   "cell_type": "code",
   "execution_count": null,
   "id": "a3be786e",
   "metadata": {},
   "outputs": [
    {
     "name": "stdout",
     "output_type": "stream",
     "text": [
      "120\n"
     ]
    }
   ],
   "source": [
    "n = int(input(\"Enter the number:\"))\n",
    "fact =1\n",
    "i = 1\n",
    "while(i<=n):\n",
    "    fact = fact*i\n",
    "    i+=1\n",
    "print(fact)"
   ]
  },
  {
   "cell_type": "code",
   "execution_count": null,
   "id": "10e9c03b",
   "metadata": {},
   "outputs": [
    {
     "name": "stdout",
     "output_type": "stream",
     "text": [
      "2\n",
      "2\n"
     ]
    }
   ],
   "source": [
    "n = int(input(\"Enter the number: \"))\n",
    "\n",
    "count = 0\n",
    "while(n!=0):\n",
    "      n = n//10\n",
    "      \n",
    "      count +=1\n",
    "print(count)\n"
   ]
  },
  {
   "cell_type": "code",
   "execution_count": null,
   "id": "18e68fd7",
   "metadata": {},
   "outputs": [
    {
     "name": "stdout",
     "output_type": "stream",
     "text": [
      "5\n"
     ]
    }
   ],
   "source": [
    "n = int(input(\"Enter the number: \"))\n",
    "\n",
    "sum=0\n",
    "num = n\n",
    "while(num!=0):\n",
    "      n = num%10\n",
    "      sum = sum+n\n",
    "      num = num//10\n",
    "      \n",
    "print(sum)"
   ]
  },
  {
   "cell_type": "code",
   "execution_count": null,
   "id": "8b280fc0",
   "metadata": {},
   "outputs": [
    {
     "name": "stdout",
     "output_type": "stream",
     "text": [
      "321\n"
     ]
    }
   ],
   "source": [
    "n = int(input(\"Enter the number: \"))\n",
    "\n",
    "i = 0\n",
    "while(n!=0):\n",
    "    r = n%10\n",
    "    i = i*10 + r\n",
    "    n = n//10\n",
    "    \n",
    "print(i)\n"
   ]
  },
  {
   "cell_type": "code",
   "execution_count": null,
   "id": "b62449a7",
   "metadata": {},
   "outputs": [
    {
     "name": "stdout",
     "output_type": "stream",
     "text": [
      "Not palindrome\n",
      "321\n"
     ]
    }
   ],
   "source": [
    "n = int(input(\"Enter the number: \"))\n",
    "num = n\n",
    "i = 0\n",
    "while(n!=0):\n",
    "    r = n%10\n",
    "    i = i*10 + r\n",
    "    n = n//10\n",
    "if(num == i):\n",
    "    print(\"palindrome\") \n",
    "else:\n",
    "    print(\"Not palindrome\")\n",
    "print(i)"
   ]
  },
  {
   "cell_type": "code",
   "execution_count": null,
   "id": "5eddd1ee",
   "metadata": {},
   "outputs": [
    {
     "name": "stdout",
     "output_type": "stream",
     "text": [
      "This no. is Narcissistic.\n"
     ]
    }
   ],
   "source": [
    "n = int(input(\"Enter the Number:\"))\n",
    "num = n\n",
    "dnum = n\n",
    "digSum = 0\n",
    "count=0\n",
    "while(n!=0):\n",
    "    r = n%10\n",
    "    count +=1\n",
    "    n = n//10\n",
    "while(dnum!=0):\n",
    "    r = dnum%10\n",
    "    digSum =digSum + r ** count\n",
    "    dnum = dnum//10\n",
    "\n",
    "if(num==digSum):\n",
    "    print(\"This no. is Narcissistic.\")\n",
    "else:\n",
    "    print(\"This no. is not Narcissistic.\")\n"
   ]
  },
  {
   "cell_type": "code",
   "execution_count": null,
   "id": "6ec31f23",
   "metadata": {},
   "outputs": [
    {
     "name": "stdout",
     "output_type": "stream",
     "text": [
      "3 3\n"
     ]
    }
   ],
   "source": [
    "#count of even and odd digits\n",
    "n = int(input(\"Enter the number:\"))\n",
    "od=0\n",
    "ed=0\n",
    "while(n!=0):\n",
    "    r=n%10\n",
    "    if(r%2==0):\n",
    "        ed+=1\n",
    "    else:\n",
    "        od+=1\n",
    "    n//=10\n",
    "print(ed,od)"
   ]
  },
  {
   "cell_type": "code",
   "execution_count": null,
   "id": "1687afb1",
   "metadata": {},
   "outputs": [
    {
     "name": "stdout",
     "output_type": "stream",
     "text": [
      "Prime\n"
     ]
    }
   ],
   "source": [
    "n = int(input(\"Enter the number:\"))\n",
    "i=2\n",
    "# count=0\n",
    "isPrime = True\n",
    "while(i<n):\n",
    "    if(n%i==0):\n",
    "        isPrime= False\n",
    "      \n",
    "        break\n",
    "    i+=1\n",
    "if(isPrime==True):\n",
    "    print(\"Prime\")\n",
    "else:\n",
    "    print(\"not Prime\")\n",
    "    \n"
   ]
  },
  {
   "cell_type": "code",
   "execution_count": null,
   "id": "b96cd03b",
   "metadata": {},
   "outputs": [
    {
     "name": "stdout",
     "output_type": "stream",
     "text": [
      "Lcm is  48\n"
     ]
    }
   ],
   "source": [
    "#find the LCM\n",
    "a= int(input(\"Enter the first number:\"))\n",
    "b = int(input(\"Enter the second number:\"))\n",
    "i=a\n",
    "while(i<a*b):\n",
    "    if i%a==0 and i%b==0:\n",
    "        print(\"Lcm is \",i)\n",
    "        break\n",
    "    i+=1\n"
   ]
  },
  {
   "cell_type": "code",
   "execution_count": null,
   "id": "e5bb5f5e",
   "metadata": {},
   "outputs": [
    {
     "name": "stdout",
     "output_type": "stream",
     "text": [
      "The HCF is : 4\n"
     ]
    }
   ],
   "source": [
    "#find the HCF\n",
    "a = int(input(\"enter the first number:\"))\n",
    "b = int(input(\"enter the second number:\"))\n",
    "i = a\n",
    "while i>=1:\n",
    "    if a%i==0 and b%i==0:\n",
    "        print(\"The HCF is :\",i)\n",
    "        break\n",
    "    i-=1 "
   ]
  },
  {
   "cell_type": "markdown",
   "id": "225841fc",
   "metadata": {},
   "source": [
    "For Loop:-"
   ]
  },
  {
   "cell_type": "code",
   "execution_count": null,
   "id": "28116739",
   "metadata": {},
   "outputs": [
    {
     "name": "stdout",
     "output_type": "stream",
     "text": [
      "1 3 5 7 9 11 13 15 17 19 "
     ]
    }
   ],
   "source": [
    "for i in range(1,21,2):\n",
    "    print(i,end=\" \")"
   ]
  },
  {
   "cell_type": "code",
   "execution_count": null,
   "id": "70620a7f",
   "metadata": {},
   "outputs": [
    {
     "name": "stdout",
     "output_type": "stream",
     "text": [
      "110\n",
      "100\n"
     ]
    }
   ],
   "source": [
    "even = 0\n",
    "odd = 0\n",
    "for i in range(1,21):\n",
    "    if(i%2==0):\n",
    "        even+=i\n",
    "    else:\n",
    "        odd+=i\n",
    "\n",
    "print(even)\n",
    "print(odd)"
   ]
  },
  {
   "cell_type": "code",
   "execution_count": null,
   "id": "b3128b7b",
   "metadata": {},
   "outputs": [
    {
     "name": "stdout",
     "output_type": "stream",
     "text": [
      "3 12\n"
     ]
    }
   ],
   "source": [
    "#print multiplication of all factors of even and odd factors\n",
    "n = int(input(\"Enter the Number:\"))\n",
    "od=1\n",
    "ev=1\n",
    "for i in range(1,n+1):\n",
    "    if(n%i==0 and i%2==0):\n",
    "        ev*=i\n",
    "    elif(n%i==0 and i%2!=0):\n",
    "        od*=i\n",
    "\n",
    "print(od,ev)\n"
   ]
  }
 ],
 "metadata": {
  "kernelspec": {
   "display_name": ".venv",
   "language": "python",
   "name": "python3"
  },
  "language_info": {
   "codemirror_mode": {
    "name": "ipython",
    "version": 3
   },
   "file_extension": ".py",
   "mimetype": "text/x-python",
   "name": "python",
   "nbconvert_exporter": "python",
   "pygments_lexer": "ipython3",
   "version": "3.12.2"
  }
 },
 "nbformat": 4,
 "nbformat_minor": 5
}
