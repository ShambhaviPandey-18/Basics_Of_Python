{
 "cells": [
  {
   "cell_type": "markdown",
   "id": "e109fe07",
   "metadata": {},
   "source": [
    "* Immutable\n"
   ]
  },
  {
   "cell_type": "code",
   "execution_count": 1,
   "id": "8675400e",
   "metadata": {},
   "outputs": [
    {
     "name": "stdout",
     "output_type": "stream",
     "text": [
      "nt a t\n",
      "e h\n",
      "n Python\n",
      "L'LrPh\n",
      "hn\n",
      "on\n"
     ]
    }
   ],
   "source": [
    "x = \"Let's Learn Python\"\n",
    "print(x[::-3])\n",
    "print(x[7::4])\n",
    "print(x[10:])\n",
    "print(x[::3])\n",
    "print(x[-3:-10:-5])\n",
    "print(x[-2:])"
   ]
  },
  {
   "cell_type": "code",
   "execution_count": 2,
   "id": "f50250a6",
   "metadata": {},
   "outputs": [
    {
     "name": "stdout",
     "output_type": "stream",
     "text": [
      "learning\n",
      "learningpython\n",
      "learningpythonlearningpythonlearningpythonlearningpython\n"
     ]
    }
   ],
   "source": [
    "s1 = \"learning\"\n",
    "s2 = \"python\"\n",
    "print(s1)\n",
    "#concatenation of 2 strings\n",
    "s1 = s1 + s2\n",
    "print(s1)\n",
    "\n",
    "#repeat string n times\n",
    "s = s1 * 4\n",
    "print(s)"
   ]
  },
  {
   "cell_type": "markdown",
   "id": "6f326531",
   "metadata": {},
   "source": [
    "String Membership test"
   ]
  },
  {
   "cell_type": "code",
   "execution_count": null,
   "id": "a2db307a",
   "metadata": {},
   "outputs": [],
   "source": [
    "print('o' in 'Hello World')#in perator to test membership"
   ]
  },
  {
   "cell_type": "markdown",
   "id": "2f5a8ae9",
   "metadata": {},
   "source": [
    "Methods "
   ]
  },
  {
   "cell_type": "code",
   "execution_count": 3,
   "id": "420b4f7e",
   "metadata": {},
   "outputs": [
    {
     "name": "stdout",
     "output_type": "stream",
     "text": [
      "PYTHON\n",
      "python\n"
     ]
    }
   ],
   "source": [
    "#lower\n",
    "x='PYTHON'\n",
    "y=x.lower()\n",
    "print(x)\n",
    "print(y)"
   ]
  },
  {
   "cell_type": "code",
   "execution_count": 4,
   "id": "a8cdd1c5",
   "metadata": {},
   "outputs": [
    {
     "name": "stdout",
     "output_type": "stream",
     "text": [
      "python\n",
      "PYTHON\n"
     ]
    }
   ],
   "source": [
    "#upper\n",
    "x='python'\n",
    "y=x.upper()\n",
    "print(x)\n",
    "print(y)"
   ]
  },
  {
   "cell_type": "code",
   "execution_count": 5,
   "id": "c1ce37d4",
   "metadata": {},
   "outputs": [
    {
     "name": "stdout",
     "output_type": "stream",
     "text": [
      "Python i am python \n"
     ]
    }
   ],
   "source": [
    "#capitalize\n",
    "a = \"PYTHON I am python \".capitalize()\n",
    "print(a)"
   ]
  },
  {
   "cell_type": "code",
   "execution_count": 21,
   "id": "1bb458dc",
   "metadata": {},
   "outputs": [
    {
     "name": "stdout",
     "output_type": "stream",
     "text": [
      "orange banana orange cherry\n"
     ]
    }
   ],
   "source": [
    "#replace\n",
    "text = \"apple banana apple cherry\"\n",
    "modified = text.replace(\"apple\",\"orange\")\n",
    "print(modified)"
   ]
  },
  {
   "cell_type": "code",
   "execution_count": 6,
   "id": "c8189b24",
   "metadata": {},
   "outputs": [
    {
     "name": "stdout",
     "output_type": "stream",
     "text": [
      "['hello', 'user', 'i', 'am', 'learning', 'python']\n"
     ]
    }
   ],
   "source": [
    "#split() - converts string into list word by word\n",
    "str=\"hello user i am learning python\"\n",
    "lst = str.split()\n",
    "print(lst)"
   ]
  },
  {
   "cell_type": "code",
   "execution_count": null,
   "id": "c6693533",
   "metadata": {},
   "outputs": [
    {
     "name": "stdout",
     "output_type": "stream",
     "text": [
      "['007', '783647', '9283']\n"
     ]
    }
   ],
   "source": [
    "str1=\"007-783647-9283\"\n",
    "lst1 = str1.split(sep=\"-\")# sep removes the specified thing\n",
    "print(lst1)"
   ]
  },
  {
   "cell_type": "code",
   "execution_count": 9,
   "id": "bcd004de",
   "metadata": {},
   "outputs": [
    {
     "name": "stdout",
     "output_type": "stream",
     "text": [
      "007-783647-9283\n"
     ]
    }
   ],
   "source": [
    "#join()- converts list into string\n",
    "lst2=['007', '783647', '9283']\n",
    "str2 = \"-\".join(lst2)\n",
    "print(str2)"
   ]
  },
  {
   "cell_type": "code",
   "execution_count": 15,
   "id": "22813660",
   "metadata": {},
   "outputs": [
    {
     "name": "stdout",
     "output_type": "stream",
     "text": [
      "['3', '5', '2025']\n",
      "day =  3\n",
      "month =  5\n",
      "year =  2025\n"
     ]
    }
   ],
   "source": [
    "s = eval(input(\"Enter the date: \"))\n",
    "l = s.split(sep=\"/\")\n",
    "print(l)\n",
    "day = l[0]\n",
    "month = l[1]\n",
    "year = l[2]\n",
    "print(\"day = \" ,day)\n",
    "print(\"month = \", month)\n",
    "print(\"year = \" ,year)\n"
   ]
  },
  {
   "cell_type": "code",
   "execution_count": 20,
   "id": "a3db3175",
   "metadata": {},
   "outputs": [
    {
     "name": "stdout",
     "output_type": "stream",
     "text": [
      "python 6\n"
     ]
    }
   ],
   "source": [
    "s1 = input(\"Enter the sentence:\")\n",
    "l1 = s1.split()\n",
    "\n",
    "word = \"\"\n",
    "for i in range(len(l)):\n",
    "    if len(l1[i])>len(word):\n",
    "        word=l1[i]\n",
    "print(word,len(word))\n",
    "\n"
   ]
  },
  {
   "cell_type": "code",
   "execution_count": null,
   "id": "9caceb5f",
   "metadata": {},
   "outputs": [],
   "source": [
    "#palindrome\n",
    "string = input(\"Enter the string :\")\n",
    "\n",
    "string.reverse()\n"
   ]
  },
  {
   "cell_type": "code",
   "execution_count": 25,
   "id": "6a068c19",
   "metadata": {},
   "outputs": [
    {
     "name": "stdout",
     "output_type": "stream",
     "text": [
      "Hello. everyone, Let's. learn. python,\n"
     ]
    }
   ],
   "source": [
    "#replace . - , and , - .\n",
    "a = \"Hello, everyone. Let's, learn, python.\"\n",
    "modified_a = a.replace(\",\",\"/\")\n",
    "modified_a1 = modified_a.replace(\".\",\",\")\n",
    "modified_a2 = modified_a1.replace(\"/\",\".\")\n",
    "print(modified_a2)\n"
   ]
  },
  {
   "cell_type": "code",
   "execution_count": 27,
   "id": "095032cc",
   "metadata": {},
   "outputs": [
    {
     "ename": "SyntaxError",
     "evalue": "unterminated string literal (detected at line 1) (2681958942.py, line 1)",
     "output_type": "error",
     "traceback": [
      "  \u001b[36mCell\u001b[39m\u001b[36m \u001b[39m\u001b[32mIn[27]\u001b[39m\u001b[32m, line 1\u001b[39m\n\u001b[31m    \u001b[39m\u001b[31ma1 = \"Hello, everyone. Let's, learn, python.\u001b[39m\n         ^\n\u001b[31mSyntaxError\u001b[39m\u001b[31m:\u001b[39m unterminated string literal (detected at line 1)\n"
     ]
    }
   ],
   "source": [
    "a1 = \"Hello, everyone. Let's, learn, python.\n",
    "a1 = a1.replace(\",\",\"/\")\n",
    "a1 = a1.replace(\".\",\",\")\n",
    "a1 = a1.replace(\"/\",\".\")\n",
    "print(a)"
   ]
  },
  {
   "cell_type": "code",
   "execution_count": null,
   "id": "fe1b9117",
   "metadata": {},
   "outputs": [],
   "source": []
  }
 ],
 "metadata": {
  "kernelspec": {
   "display_name": ".venv",
   "language": "python",
   "name": "python3"
  },
  "language_info": {
   "codemirror_mode": {
    "name": "ipython",
    "version": 3
   },
   "file_extension": ".py",
   "mimetype": "text/x-python",
   "name": "python",
   "nbconvert_exporter": "python",
   "pygments_lexer": "ipython3",
   "version": "3.12.2"
  }
 },
 "nbformat": 4,
 "nbformat_minor": 5
}
