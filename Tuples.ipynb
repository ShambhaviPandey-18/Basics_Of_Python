{
 "cells": [
  {
   "cell_type": "markdown",
   "id": "d677bc12",
   "metadata": {},
   "source": [
    "TUPLE : \n",
    "immutable"
   ]
  },
  {
   "cell_type": "code",
   "execution_count": 1,
   "id": "dd393eb6",
   "metadata": {},
   "outputs": [
    {
     "name": "stdout",
     "output_type": "stream",
     "text": [
      "() () (1, 2, 3, 'hiii')\n"
     ]
    }
   ],
   "source": [
    "tpl=()#empty tuples\n",
    "tpl1=tuple()#empty tuples\n",
    "tpl2 = (1,2,3,'hiii')\n",
    "print(tpl,tpl1,tpl2)\n",
    " "
   ]
  },
  {
   "cell_type": "code",
   "execution_count": null,
   "id": "32faa2cb",
   "metadata": {},
   "outputs": [
    {
     "name": "stdout",
     "output_type": "stream",
     "text": [
      "<class 'tuple'>\n"
     ]
    }
   ],
   "source": [
    "#tpl=(5)#gives class<int> in single value\n",
    "tpl = (5,)# a comma is compulsory.\n",
    "print(type(tpl))"
   ]
  },
  {
   "cell_type": "code",
   "execution_count": null,
   "id": "fa0f25e4",
   "metadata": {},
   "outputs": [
    {
     "data": {
      "text/plain": [
       "2"
      ]
     },
     "execution_count": 5,
     "metadata": {},
     "output_type": "execute_result"
    }
   ],
   "source": [
    "# values can be only accessed not changed or updated\n",
    "tpl = (1,2,3,4,5,6,7)\n",
    "tpl[1]"
   ]
  },
  {
   "cell_type": "code",
   "execution_count": null,
   "id": "e1f28bfb",
   "metadata": {},
   "outputs": [
    {
     "ename": "NameError",
     "evalue": "name 'tpl' is not defined",
     "output_type": "error",
     "traceback": [
      "\u001b[31m---------------------------------------------------------------------------\u001b[39m",
      "\u001b[31mNameError\u001b[39m                                 Traceback (most recent call last)",
      "\u001b[36mCell\u001b[39m\u001b[36m \u001b[39m\u001b[32mIn[6]\u001b[39m\u001b[32m, line 2\u001b[39m\n\u001b[32m      1\u001b[39m \u001b[38;5;28;01mdel\u001b[39;00m tpl\n\u001b[32m----> \u001b[39m\u001b[32m2\u001b[39m \u001b[38;5;28mprint\u001b[39m(\u001b[43mtpl\u001b[49m)\n",
      "\u001b[31mNameError\u001b[39m: name 'tpl' is not defined"
     ]
    }
   ],
   "source": [
    "del tpl# deleted the tuple tpl.\n",
    "print(tpl)"
   ]
  },
  {
   "cell_type": "code",
   "execution_count": null,
   "id": "bf20b6e7",
   "metadata": {},
   "outputs": [
    {
     "name": "stdout",
     "output_type": "stream",
     "text": [
      "['__add__', '__class__', '__class_getitem__', '__contains__', '__delattr__', '__dir__', '__doc__', '__eq__', '__format__', '__ge__', '__getattribute__', '__getitem__', '__getnewargs__', '__getstate__', '__gt__', '__hash__', '__init__', '__init_subclass__', '__iter__', '__le__', '__len__', '__lt__', '__mul__', '__ne__', '__new__', '__reduce__', '__reduce_ex__', '__repr__', '__rmul__', '__setattr__', '__sizeof__', '__str__', '__subclasshook__', 'count', 'index']\n",
      "2496350719488\n",
      "2496347586752\n",
      "(1, 2, 3, 4, 5, 6, 7, 8, 9)\n"
     ]
    }
   ],
   "source": [
    "tpl=(1,2,3,4,5)\n",
    "print(dir(tpl))\n",
    "print(id(tpl))\n",
    "tpl+=(6,7,8,9)#concatenation\n",
    "print(id(tpl))# created tuple is in different address\n",
    "print(tpl)\n"
   ]
  },
  {
   "cell_type": "code",
   "execution_count": 10,
   "id": "77880c99",
   "metadata": {},
   "outputs": [
    {
     "name": "stdout",
     "output_type": "stream",
     "text": [
      "(1, 2, 3, 4)\n"
     ]
    }
   ],
   "source": [
    "tpl = [1,2,3,4]\n",
    "print(tuple(tpl))"
   ]
  },
  {
   "cell_type": "code",
   "execution_count": null,
   "id": "620a63ca",
   "metadata": {},
   "outputs": [],
   "source": []
  }
 ],
 "metadata": {
  "kernelspec": {
   "display_name": ".venv",
   "language": "python",
   "name": "python3"
  },
  "language_info": {
   "codemirror_mode": {
    "name": "ipython",
    "version": 3
   },
   "file_extension": ".py",
   "mimetype": "text/x-python",
   "name": "python",
   "nbconvert_exporter": "python",
   "pygments_lexer": "ipython3",
   "version": "3.12.2"
  }
 },
 "nbformat": 4,
 "nbformat_minor": 5
}
