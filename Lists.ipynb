{
 "cells": [
  {
   "cell_type": "markdown",
   "id": "c1118314",
   "metadata": {},
   "source": [
    "LIST:\n",
    "* Mix datatype\n",
    "* Mutable\n",
    "* Sequenced"
   ]
  },
  {
   "cell_type": "code",
   "execution_count": null,
   "id": "c5494d96",
   "metadata": {},
   "outputs": [],
   "source": [
    "#Creating List\n",
    "\n",
    "emptylst = []#empty lst\n",
    "\n",
    "lst_int = [2,3,4,6]#list of integers\n",
    "\n",
    "lst_str= ['one','two']#list of strings\n",
    "\n",
    "lst_lists = [[1,2,3,4],[2,3,4]]#list of list\n",
    "\n",
    "lst_mix = [1,3,4,'hii']#mixed datatype\n",
    "\n"
   ]
  },
  {
   "cell_type": "code",
   "execution_count": 2,
   "id": "42c168d3",
   "metadata": {},
   "outputs": [
    {
     "name": "stdout",
     "output_type": "stream",
     "text": [
      "[]\n",
      "[]\n",
      "[11]\n",
      "[]\n",
      "[4, 1]\n",
      "[12, 10, 11, 4, 1]\n"
     ]
    }
   ],
   "source": [
    "# SLICING \n",
    "\n",
    "lst = [1,3,5,4,2,9,11,12,19,10,5,3,12]\n",
    "print(lst[4:-7:-3])\n",
    "print(lst[-4:-7:3])\n",
    "print(lst[-7:-30:-10])\n",
    "print(lst[30::10])\n",
    "print(lst[-10::-3])\n",
    "print(lst[::-3])"
   ]
  },
  {
   "cell_type": "code",
   "execution_count": 1,
   "id": "0102c819",
   "metadata": {},
   "outputs": [
    {
     "name": "stdout",
     "output_type": "stream",
     "text": [
      "['apple', 'banana', 'cherry', 'kiwi', 'guava']\n"
     ]
    }
   ],
   "source": [
    "# UPDATE LIST\n",
    "\n",
    "fruits = ['apple',\"banana\",\"cherry\",\"kiwi\",\"guava\"]\n",
    "print(fruits)"
   ]
  },
  {
   "cell_type": "code",
   "execution_count": 2,
   "id": "d98c3a7e",
   "metadata": {},
   "outputs": [
    {
     "name": "stdout",
     "output_type": "stream",
     "text": [
      "['apple', 'banana', 'cherry', 'watermelon', 'guava']\n"
     ]
    }
   ],
   "source": [
    "# method 1\n",
    "fruits[3] = 'watermelon'\n",
    "print(fruits)"
   ]
  },
  {
   "cell_type": "code",
   "execution_count": 3,
   "id": "9a84b69e",
   "metadata": {},
   "outputs": [
    {
     "name": "stdout",
     "output_type": "stream",
     "text": [
      "['apple', 'banana', 'cherry', 'watermelon', 'guava', 'orange']\n"
     ]
    }
   ],
   "source": [
    "# method 2 (.append())\n",
    "fruits.append('orange') #adds an item to the end\n",
    "print(fruits)"
   ]
  },
  {
   "cell_type": "code",
   "execution_count": null,
   "id": "cbf33974",
   "metadata": {},
   "outputs": [
    {
     "name": "stdout",
     "output_type": "stream",
     "text": [
      "['apple', 'banana', 'lichi', 'cherry', 'kiwi', 'guava']\n",
      "['plum', 'apple', 'banana', 'lichi', 'cherry', 'kiwi', 'guava']\n",
      "['plum', 'apple', 'banana', 'lichi', 'cherry', 'kiwi', 'guava', 'mango']\n"
     ]
    }
   ],
   "source": [
    "# method 3 (insert())\n",
    "#fruits.insert(3,'lichi')# adds element at the given index\n",
    "#print(fruits)\n",
    "fruits = ['apple',\"banana\",\"cherry\",\"kiwi\",\"guava\"]\n",
    "fruits.insert(-3,'lichi')# adds element at the given length - index \n",
    "print(fruits)\n",
    "fruits.insert(-13,'plum')\n",
    "print(fruits)\n",
    "fruits.insert(13,'mango')# works as an append\n",
    "print(fruits)"
   ]
  },
  {
   "cell_type": "code",
   "execution_count": 11,
   "id": "4b964674",
   "metadata": {},
   "outputs": [
    {
     "name": "stdout",
     "output_type": "stream",
     "text": [
      "[4, 5, 6, 1, 2, 3, [4, 7], 9]\n"
     ]
    }
   ],
   "source": [
    "# method 4 (extend())\n",
    "#list1 = [1,2,3]\n",
    "list1 = [1,2,3,[4,7],9]\n",
    "list2 = [4,5,6]\n",
    "#list1.extnd(5) #iterable: any iterable(list, tuple, set...)\n",
    "list2.extend(list1)\n",
    "print(list2)\n"
   ]
  },
  {
   "cell_type": "markdown",
   "id": "9ae3db4c",
   "metadata": {},
   "source": [
    "DELETE METHODS"
   ]
  },
  {
   "cell_type": "code",
   "execution_count": 1,
   "id": "4d57a2d5",
   "metadata": {},
   "outputs": [
    {
     "name": "stdout",
     "output_type": "stream",
     "text": [
      "['one', 'two', 'four']\n"
     ]
    }
   ],
   "source": [
    "# method 1 :using del keyword\n",
    "\n",
    "lst = ['one','two','three','four']\n",
    "del lst[2]\n",
    "print(lst)\n",
    "\n",
    "# del lst\n",
    "# print(lst)"
   ]
  },
  {
   "cell_type": "code",
   "execution_count": null,
   "id": "568321d8",
   "metadata": {},
   "outputs": [
    {
     "name": "stdout",
     "output_type": "stream",
     "text": [
      "['one', 'two', 'three']\n",
      "four\n"
     ]
    }
   ],
   "source": [
    "#method 2 pop()\n",
    "lst = ['one','two','three','four']\n",
    "#we can delete element using pop from given index\n",
    "a = lst.pop(3)\n",
    "print(lst)\n",
    "print(a)"
   ]
  },
  {
   "cell_type": "code",
   "execution_count": null,
   "id": "d78c2120",
   "metadata": {},
   "outputs": [
    {
     "name": "stdout",
     "output_type": "stream",
     "text": [
      "[1, 2, 3, [4, 5], 4, 7]\n",
      "[1, 2, 3, [4, 5], 7]\n"
     ]
    }
   ],
   "source": [
    "#method 3 remove()\n",
    "#remove the first occurence of given value\n",
    "#lst= [1,2,3,4,5,6,7]\n",
    "lst= [1,2,3,[4,5],4,7]\n",
    "print(lst)\n",
    "lst.remove(4)\n",
    "#lst.remove(10)# gives error\n",
    "print(lst)"
   ]
  },
  {
   "cell_type": "code",
   "execution_count": null,
   "id": "09b65b1b",
   "metadata": {},
   "outputs": [],
   "source": [
    "#The count method in a list is used to count the no.of times\n",
    "number = [1,2,3,4,5,[6,5],7]\n"
   ]
  },
  {
   "cell_type": "code",
   "execution_count": null,
   "id": "c4a081ea",
   "metadata": {},
   "outputs": [
    {
     "name": "stdout",
     "output_type": "stream",
     "text": [
      "[7, 6, 5, 4, 3, 2, 1]\n"
     ]
    }
   ],
   "source": [
    "#reverse method\n",
    "n = [1,2,3,4,5,6,7]\n",
    "\n",
    "n.reverse() # reverses the actual list\n",
    "#n[::-1]#does not changes the actual list\n",
    "print(n)"
   ]
  },
  {
   "cell_type": "code",
   "execution_count": 19,
   "id": "1d6c683c",
   "metadata": {},
   "outputs": [
    {
     "data": {
      "text/plain": [
       "0"
      ]
     },
     "execution_count": 19,
     "metadata": {},
     "output_type": "execute_result"
    }
   ],
   "source": [
    "#index function\n",
    "#to check the element is present at which index\n",
    "lst = [2,5,'apple',6,2]\n",
    "lst.index(2)"
   ]
  },
  {
   "cell_type": "code",
   "execution_count": null,
   "id": "44429130",
   "metadata": {},
   "outputs": [
    {
     "name": "stdout",
     "output_type": "stream",
     "text": [
      "11\n",
      "22\n",
      "33\n",
      "4\n",
      "5\n"
     ]
    }
   ],
   "source": [
    "numbers = [11,22,33,4,5]\n",
    "for i in range(len(numbers)):\n",
    "    print(numbers[i])"
   ]
  },
  {
   "cell_type": "code",
   "execution_count": null,
   "id": "e6ff6e26",
   "metadata": {},
   "outputs": [
    {
     "name": "stdout",
     "output_type": "stream",
     "text": [
      "5 5\n"
     ]
    }
   ],
   "source": [
    "#count even and odd numbers .\n",
    "number = [3,5,7,9,2,4,8,11,12,14]\n",
    "even = 0 \n",
    "odd = 0\n",
    "for i in range(len(number)):\n",
    "    if(i%2==0): #if number[i]%2==0:\n",
    "        even +=1\n",
    "    else:\n",
    "        odd +=1\n",
    "print(even , odd)\n"
   ]
  },
  {
   "cell_type": "code",
   "execution_count": 26,
   "id": "6423f9cd",
   "metadata": {},
   "outputs": [
    {
     "name": "stdout",
     "output_type": "stream",
     "text": [
      "[-2, 7, 0, 9, 2, 11, 4, 13, 6]\n"
     ]
    }
   ],
   "source": [
    "# wap which will take lst as an input, even numbers +5 and odd numbers - 3.\n",
    "n = eval(input(\"Enter the list: \"))\n",
    "\n",
    "for i in range(len(n)):\n",
    "    if(n[i]%2==0):\n",
    "        n[i]+=5\n",
    "    else:\n",
    "        n[i]-=3\n",
    "print(n)"
   ]
  },
  {
   "cell_type": "code",
   "execution_count": 6,
   "id": "6f076435",
   "metadata": {},
   "outputs": [
    {
     "name": "stdout",
     "output_type": "stream",
     "text": [
      "[5, 3, 9, 7, 8, 2, 15, 11, 14, 12]\n"
     ]
    }
   ],
   "source": [
    "#swap alternate values of the list\n",
    "lst = [3,5,7,9,2,8,11,15,12,14]\n",
    "for i in range(0,len(lst),2):\n",
    "    lst[i],lst[i+1] = lst[i+1],lst[i]\n",
    "print(lst)\n",
    "\n"
   ]
  },
  {
   "cell_type": "code",
   "execution_count": null,
   "id": "ff7a0a1a",
   "metadata": {},
   "outputs": [
    {
     "name": "stdout",
     "output_type": "stream",
     "text": [
      "74\n"
     ]
    }
   ],
   "source": [
    "#calculate largest element\n",
    "lst = [3,5,6,7,8,9,10,24,74,3,4,5,2,7]\n",
    "max1 = lst[0]\n",
    "for i in range(0,len(lst),1):\n",
    "    if(max1 < lst[i]):\n",
    "        max1 = lst[i]\n",
    "print(max1)"
   ]
  },
  {
   "cell_type": "code",
   "execution_count": null,
   "id": "e460358f",
   "metadata": {},
   "outputs": [
    {
     "name": "stdout",
     "output_type": "stream",
     "text": [
      "24\n",
      "74\n"
     ]
    }
   ],
   "source": [
    "#calculate second largest\n",
    "lst = [3,5,6,7,8,9,10,24,74,3,4,5,2,7]\n",
    "max1,max2 = lst[0],lst[1]\n",
    "\n",
    "for i in range(0,len(lst),1):\n",
    "    if(max1 < lst[i]):\n",
    "        max2 = max1\n",
    "        max1 = lst[i] \n",
    "        \n",
    "    elif(max2 < lst[i]):\n",
    "        max2 = lst[i]\n",
    "print(max2)\n",
    "print(max1)\n",
    "        "
   ]
  },
  {
   "cell_type": "code",
   "execution_count": 13,
   "id": "2e1cc314",
   "metadata": {},
   "outputs": [
    {
     "name": "stdout",
     "output_type": "stream",
     "text": [
      "16\n"
     ]
    }
   ],
   "source": [
    "n = int(input(\"Enter a number:\"))\n",
    "lst = [1,2,3,4,5,6,7,8,9]\n",
    "sum = 0\n",
    "for i in range(1,len(lst),1):\n",
    "    if(n%i==0):\n",
    "        sum +=i\n",
    "print(sum)"
   ]
  },
  {
   "cell_type": "code",
   "execution_count": 23,
   "id": "2a3d1749",
   "metadata": {},
   "outputs": [
    {
     "name": "stdout",
     "output_type": "stream",
     "text": [
      "[25, 20, 15, 12, 10]\n"
     ]
    }
   ],
   "source": [
    "lst = [25,3,2,20,8,15,6,12,10]\n",
    "lst.reverse()\n",
    "newlst = [lst[0]]\n",
    "n = lst[0] \n",
    "for i in lst:\n",
    "    if n < i:\n",
    "        n = i\n",
    "        newlst.append(i)\n",
    "\n",
    "newlst.reverse()\n",
    "print(newlst)\n",
    "\n",
    "\n"
   ]
  },
  {
   "cell_type": "code",
   "execution_count": 24,
   "id": "d0eda560",
   "metadata": {},
   "outputs": [
    {
     "name": "stdout",
     "output_type": "stream",
     "text": [
      "[9, 25, 49, 4, 64, 81]\n"
     ]
    }
   ],
   "source": [
    "lst = [3,5,7,2,8,9]\n",
    "newlst = []\n",
    "for i in lst:\n",
    "    newlst.append(i*i)\n",
    "print(newlst)"
   ]
  },
  {
   "cell_type": "markdown",
   "id": "b694d756",
   "metadata": {},
   "source": [
    "LIST COMPREHENSION\n",
    "[expression  for loop  condition]"
   ]
  },
  {
   "cell_type": "code",
   "execution_count": 26,
   "id": "9519b83c",
   "metadata": {},
   "outputs": [
    {
     "name": "stdout",
     "output_type": "stream",
     "text": [
      "[9, 25, 49, 4, 64, 81]\n"
     ]
    }
   ],
   "source": [
    "lst= [3,5,7,2,8,9]\n",
    "lst1 = [i*i for i in lst]\n",
    "print(lst1)"
   ]
  },
  {
   "cell_type": "code",
   "execution_count": 28,
   "id": "0027e79e",
   "metadata": {},
   "outputs": [
    {
     "name": "stdout",
     "output_type": "stream",
     "text": [
      "[3, 5, 8, 12]\n",
      "[-7, -3, -18, -23]\n"
     ]
    }
   ],
   "source": [
    "lst = [3,5,-7,8,-3,12,-18,-23]\n",
    "lst1 = [i for i in lst if i>0]\n",
    "lst2 = [i for i in lst if i<0]\n",
    "print(lst1)\n",
    "print(lst2)"
   ]
  },
  {
   "cell_type": "code",
   "execution_count": 35,
   "id": "6790d67d",
   "metadata": {},
   "outputs": [
    {
     "name": "stdout",
     "output_type": "stream",
     "text": [
      "['odd', 'odd', 'odd', 'even', 'even', 'odd', 'even', 'odd', 'odd']\n"
     ]
    }
   ],
   "source": [
    "lst = [3,5,7,2,8,9,12,13,15]\n",
    "lst1 = [\"even\" if i%2==0 else \"odd\" for i in lst]\n",
    "\n",
    "print(lst1)\n"
   ]
  },
  {
   "cell_type": "markdown",
   "id": "35e08cb0",
   "metadata": {},
   "source": [
    "sort() and sorted()"
   ]
  },
  {
   "cell_type": "code",
   "execution_count": 36,
   "id": "d0982654",
   "metadata": {},
   "outputs": [
    {
     "name": "stdout",
     "output_type": "stream",
     "text": [
      "[9, 8, 7, 6, 5, 3, 2, 1]\n"
     ]
    }
   ],
   "source": [
    "n = [1,3,5,9,2,6,7,8]\n",
    "n.sort(reverse=True)# do not return anything\n",
    "print(n)"
   ]
  },
  {
   "cell_type": "code",
   "execution_count": 38,
   "id": "e44c9c9a",
   "metadata": {},
   "outputs": [
    {
     "name": "stdout",
     "output_type": "stream",
     "text": [
      "[9, 8, 7, 6, 5, 3, 2, 1]\n",
      "[1, 3, 5, 9, 2, 6, 7, 8]\n"
     ]
    }
   ],
   "source": [
    "n = [1,3,5,9,2,6,7,8]\n",
    "x= sorted(n,reverse=True)\n",
    "print(x)\n",
    "print(n)"
   ]
  },
  {
   "cell_type": "markdown",
   "id": "6a0b340b",
   "metadata": {},
   "source": [
    "min(),max() and sum()"
   ]
  },
  {
   "cell_type": "code",
   "execution_count": 1,
   "id": "308b1d9e",
   "metadata": {},
   "outputs": [
    {
     "name": "stdout",
     "output_type": "stream",
     "text": [
      "1\n",
      "9\n",
      "41\n"
     ]
    }
   ],
   "source": [
    "n = [1,3,5,9,2,6,7,8]\n",
    "print(min(n))\n",
    "print(max(n))\n",
    "print(sum(n))"
   ]
  },
  {
   "cell_type": "code",
   "execution_count": null,
   "id": "565cd1de",
   "metadata": {},
   "outputs": [
    {
     "name": "stdout",
     "output_type": "stream",
     "text": [
      "[9, 9, 8, 8]\n"
     ]
    }
   ],
   "source": [
    "lst = [[3,5,7,9],[8,2,5,9],[7,3,5,8],[8,3,2]]\n",
    "newlst = []\n",
    "\n",
    "for i in lst:\n",
    "\n",
    "        newlst.append(max(i))\n",
    "print(newlst)\n",
    "\n"
   ]
  },
  {
   "cell_type": "code",
   "execution_count": 5,
   "id": "cbed2320",
   "metadata": {},
   "outputs": [
    {
     "name": "stdout",
     "output_type": "stream",
     "text": [
      "[9, 9, 8, 8]\n"
     ]
    }
   ],
   "source": [
    "lst = [[3,5,7,9],[8,2,5,9],[7,3,5,8],[8,3,2]]\n",
    "newlst = [ max(i) for i in lst ]\n",
    "print(newlst)"
   ]
  },
  {
   "cell_type": "code",
   "execution_count": 15,
   "id": "c868cce8",
   "metadata": {},
   "outputs": [
    {
     "name": "stdout",
     "output_type": "stream",
     "text": [
      "[24, 14, 15, 3]\n"
     ]
    }
   ],
   "source": [
    "lst = [[3,5,7,9],[8,2,5,9],[7,3,5,8],[8,3,2]]\n",
    "newlst =[]\n",
    "\n",
    "for i in lst:\n",
    "    sum = 0\n",
    "    for j in i:\n",
    "        \n",
    "        if(j%2!=0):\n",
    "            sum +=j \n",
    "    newlst.append(sum)\n",
    "print(newlst)\n"
   ]
  },
  {
   "cell_type": "code",
   "execution_count": 1,
   "id": "29ac423d",
   "metadata": {},
   "outputs": [
    {
     "name": "stdout",
     "output_type": "stream",
     "text": [
      "[[8, 5, 5, 9], [3, 2, 7, 9], [8, 3, 2, 8], [7, 3, 5, 6]]\n"
     ]
    }
   ],
   "source": [
    "lst = [[3,5,7,9],[8,2,5,9],[7,3,5,8],[8,3,2,6]]\n",
    "for i in range(0,len(lst)-1,2):\n",
    "   for j in range(0,len(lst[i])-1,2):\n",
    "        lst[i][j],lst[i+1][j] = lst[i+1][j],lst[i][j]\n",
    "\n",
    "print(lst)\n",
    "\n"
   ]
  }
 ],
 "metadata": {
  "kernelspec": {
   "display_name": ".venv",
   "language": "python",
   "name": "python3"
  },
  "language_info": {
   "codemirror_mode": {
    "name": "ipython",
    "version": 3
   },
   "file_extension": ".py",
   "mimetype": "text/x-python",
   "name": "python",
   "nbconvert_exporter": "python",
   "pygments_lexer": "ipython3",
   "version": "3.12.2"
  }
 },
 "nbformat": 4,
 "nbformat_minor": 5
}
