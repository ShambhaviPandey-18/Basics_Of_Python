{
 "cells": [
  {
   "cell_type": "markdown",
   "id": "de511e54",
   "metadata": {},
   "source": [
    "try and except:"
   ]
  },
  {
   "cell_type": "code",
   "execution_count": 1,
   "id": "205de188",
   "metadata": {},
   "outputs": [
    {
     "name": "stdout",
     "output_type": "stream",
     "text": [
      "Index is out of range, Please Enter valid Index\n"
     ]
    }
   ],
   "source": [
    "# -> To handle the exceptions\n",
    "    # try except block\n",
    "#-> Error raised in try block will redirect to except block\n",
    "try:\n",
    "    lst=[12,3,23,2,34,4]\n",
    "    print(lst[90])\n",
    "except:\n",
    "    print(\"Index is out of range, Please Enter valid Index\")"
   ]
  },
  {
   "cell_type": "code",
   "execution_count": 2,
   "id": "2e94b043",
   "metadata": {},
   "outputs": [
    {
     "name": "stdout",
     "output_type": "stream",
     "text": [
      "Index is Out of range, please enter valid index\n"
     ]
    }
   ],
   "source": [
    "#multiple exceptions\n",
    "try:\n",
    "    lst = [12,3,23,2,34,4]\n",
    "    print(lst[90]) # IndexError\n",
    "    print(b) # NameError\n",
    "    print(5/0) # ZeroDivisinError\n",
    "except IndexError:\n",
    "    print(\"Index is Out of range, please enter valid index\")\n",
    "except NameError:\n",
    "    print(\"Variable is not defined\")\n",
    "except ZeroDivisionError:\n",
    "    print(\"Cannot divide any number with 0.\")\n"
   ]
  },
  {
   "cell_type": "code",
   "execution_count": 4,
   "id": "1ea07f76",
   "metadata": {},
   "outputs": [
    {
     "name": "stdout",
     "output_type": "stream",
     "text": [
      "list index out of range\n"
     ]
    }
   ],
   "source": [
    "# Generic exception handling\n",
    "try:\n",
    "    lst = [1,2,3,4,5]\n",
    "    #print(80/0)\n",
    "    print(lst[90])\n",
    "except Exception as e:\n",
    "    print(e)\n"
   ]
  },
  {
   "cell_type": "code",
   "execution_count": null,
   "id": "0287fb88",
   "metadata": {},
   "outputs": [],
   "source": []
  }
 ],
 "metadata": {
  "kernelspec": {
   "display_name": ".venv",
   "language": "python",
   "name": "python3"
  },
  "language_info": {
   "codemirror_mode": {
    "name": "ipython",
    "version": 3
   },
   "file_extension": ".py",
   "mimetype": "text/x-python",
   "name": "python",
   "nbconvert_exporter": "python",
   "pygments_lexer": "ipython3",
   "version": "3.12.2"
  }
 },
 "nbformat": 4,
 "nbformat_minor": 5
}
