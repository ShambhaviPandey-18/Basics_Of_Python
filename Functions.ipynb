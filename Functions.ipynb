{
 "cells": [
  {
   "cell_type": "code",
   "execution_count": 4,
   "id": "11aa17f8",
   "metadata": {},
   "outputs": [
    {
     "name": "stdout",
     "output_type": "stream",
     "text": [
      "nCr value = 10.0\n"
     ]
    }
   ],
   "source": [
    "# wap to take n and r from user and calculate nCr.\n",
    "def fact(n):\n",
    "    temp = 1\n",
    "    for i in range(1,n+1):\n",
    "        temp *= i\n",
    "    return temp\n",
    "\n",
    "n = int(input(\"Enter the value of n:\")) \n",
    "r = int(input(\"Enter the value of r:\"))\n",
    "n_fact = fact(n)\n",
    "r_fact = fact(r)\n",
    "n_min_r= fact(n-r)\n",
    "\n",
    "ans = n_fact/((r_fact)*(n_min_r))\n",
    "print(\"nCr value =\",ans)\n",
    "\n"
   ]
  },
  {
   "cell_type": "code",
   "execution_count": null,
   "id": "d0f19041",
   "metadata": {},
   "outputs": [
    {
     "name": "stdout",
     "output_type": "stream",
     "text": [
      "ShambhaviS123\n",
      "age =  24\n"
     ]
    }
   ],
   "source": [
    "def print_info(name,id,age):\n",
    "    print(name+id)\n",
    "    print(\"age = \",age)# positional arguments are given first then key value pairs are passed.\n",
    "# We can pass positional arguments i.e values without key but they should be in the order of the parameter passed in \n",
    "# the function. To overcome this , we should pass key value pair.\n",
    "\n",
    "print_info(\"Shambhavi\",age = 24,id = \"S123\")"
   ]
  },
  {
   "cell_type": "code",
   "execution_count": 13,
   "id": "b878e811",
   "metadata": {},
   "outputs": [
    {
     "name": "stdout",
     "output_type": "stream",
     "text": [
      "sum of the prime no.s =  25\n"
     ]
    }
   ],
   "source": [
    "# WAP to find the prime no.s in a list and return there sum.\n",
    "def isPrime(n):\n",
    "    # isprime = True \n",
    "    # for i in range(1,n):\n",
    "    #     if(n%i!=0):\n",
    "    #         isprime = True\n",
    "    #     else:\n",
    "    #         isPrime = False\n",
    "    if n==2 or n==5 or n==3 or n==7:\n",
    "        return True\n",
    "    else:\n",
    "        return False\n",
    "\n",
    "lst = [3,2,4,5,3,7,8,9,4,3,2,1]\n",
    "sum = 0\n",
    "for i in lst:\n",
    "    if(isPrime(i)):\n",
    "        sum += i\n",
    "print(\"sum of the prime no.s = \", sum)\n"
   ]
  },
  {
   "cell_type": "markdown",
   "id": "fd31f294",
   "metadata": {},
   "source": [
    "Lambda Function \n",
    ". Also known as anonimous function it has no name\n",
    ". It has no return value it only return function\n",
    ". Not used for code reusability"
   ]
  },
  {
   "cell_type": "markdown",
   "id": "2282c1b9",
   "metadata": {},
   "source": [
    "lambda arguments : expression\n",
    "\n",
    "They can be assigned to a variable and then used"
   ]
  },
  {
   "cell_type": "code",
   "execution_count": null,
   "id": "638a45e9",
   "metadata": {},
   "outputs": [
    {
     "name": "stdout",
     "output_type": "stream",
     "text": [
      "<class 'function'>\n",
      "27\n"
     ]
    }
   ],
   "source": [
    "x = lambda n:n*n*n\n",
    "print(type(x))\n",
    "print(x(3))\n",
    "\n",
    "#print((lambda n:n*n*n(3)))"
   ]
  },
  {
   "cell_type": "code",
   "execution_count": null,
   "id": "97beaddf",
   "metadata": {},
   "outputs": [
    {
     "name": "stdout",
     "output_type": "stream",
     "text": [
      "<class 'function'>\n",
      "2.0\n"
     ]
    }
   ],
   "source": [
    "# Find average using lambda function.\n",
    "a = int(input(\"Enter the first no.:\"))\n",
    "b = int(input(\"Enter the second no.:\"))\n",
    "c = int(input(\"Enter the third no.:\"))\n",
    "x = lambda x,y,z:(x+y+z)/3\n",
    "print(type(x))\n",
    "print(x(a,b,c))"
   ]
  },
  {
   "cell_type": "code",
   "execution_count": 17,
   "id": "7d1b19eb",
   "metadata": {},
   "outputs": [
    {
     "data": {
      "text/plain": [
       "False"
      ]
     },
     "execution_count": 17,
     "metadata": {},
     "output_type": "execute_result"
    }
   ],
   "source": [
    "# WAP to check that the string starts with a or not.\n",
    "s = input(\"Enter a string:\")\n",
    "x = lambda x:x[0]=='a'\n",
    "x(s)"
   ]
  },
  {
   "cell_type": "code",
   "execution_count": 22,
   "id": "caea8c7c",
   "metadata": {},
   "outputs": [
    {
     "name": "stdout",
     "output_type": "stream",
     "text": [
      "even\n"
     ]
    }
   ],
   "source": [
    "# WAP to check if the input no is even or odd\n",
    "n = int(input(\"enter the number:\"))\n",
    "x = lambda x: \"even\" if x%2==0 else \"odd\" \n",
    "\n",
    "print(x(n))"
   ]
  },
  {
   "cell_type": "code",
   "execution_count": null,
   "id": "2ed88bb2",
   "metadata": {},
   "outputs": [
    {
     "name": "stdout",
     "output_type": "stream",
     "text": [
      "Prime\n"
     ]
    }
   ],
   "source": [
    "# WAP to find the unit digit is prime or not.\n",
    "a = int(input(\"Enter a no.:\"))\n",
    "x = lambda n: \"Prime\" if n==2 or n==3 or n==5 or n==7 else \"Not Prime\"\n",
    "print(x(a))"
   ]
  },
  {
   "cell_type": "markdown",
   "id": "0edaf886",
   "metadata": {},
   "source": [
    "Higher Order Function\n",
    "map(), filter or reduce()"
   ]
  },
  {
   "cell_type": "markdown",
   "id": "87b7e241",
   "metadata": {},
   "source": [
    "syntax : map(function,sequence)\n",
    "\n",
    "return the map object then we can convert then using list(),tuples() etc. functions to our desired sequence"
   ]
  },
  {
   "cell_type": "code",
   "execution_count": 24,
   "id": "d7f32b60",
   "metadata": {},
   "outputs": [
    {
     "name": "stdout",
     "output_type": "stream",
     "text": [
      "[1, 4, 9, 16, 25, 36]\n"
     ]
    }
   ],
   "source": [
    "#square the items of list\n",
    "lst = {1,2,3,4,5,6}\n",
    "x = list(map(lambda x:x**2,lst))\n",
    "print(x)"
   ]
  },
  {
   "cell_type": "code",
   "execution_count": 27,
   "id": "94926fac",
   "metadata": {},
   "outputs": [
    {
     "name": "stdout",
     "output_type": "stream",
     "text": [
      "[4.90625, 32.556776000000006, 68.773536, 1741.4518500000004, 376.49385, 452.16]\n"
     ]
    }
   ],
   "source": [
    "#calculate the area of the circles using the given list of radius \n",
    "lst = {1.25,3.22,4.68,10.95,23.55,12}\n",
    "x = list(map(lambda x:3.14*x**2,lst))\n",
    "print(x)"
   ]
  },
  {
   "cell_type": "code",
   "execution_count": 28,
   "id": "bc6605c1",
   "metadata": {},
   "outputs": [
    {
     "name": "stdout",
     "output_type": "stream",
     "text": [
      "['HELLO', 'HOW', 'ARE', 'YOU']\n"
     ]
    }
   ],
   "source": [
    "#WAP  to convert the list of string into upper case\n",
    "lst = [\"Hello\",\"how\",\"are\",\"you\"]\n",
    "x = list(map(lambda x: x.upper(),lst))\n",
    "print(x)"
   ]
  },
  {
   "cell_type": "markdown",
   "id": "9bf6922a",
   "metadata": {},
   "source": [
    "filter()\n",
    "syntax :- filter(function, sequence)\n",
    "\n",
    "a filter operation applies to all the function to all the element of a sequence."
   ]
  },
  {
   "cell_type": "code",
   "execution_count": 30,
   "id": "9d95349f",
   "metadata": {},
   "outputs": [
    {
     "name": "stdout",
     "output_type": "stream",
     "text": [
      "[5, 7, 9, 12]\n"
     ]
    }
   ],
   "source": [
    "#make list of all the element greater than 4\n",
    "lst = [2,4,5,7,2,3,9,1,12]\n",
    "var=list(filter(lambda x:x>4,lst))\n",
    "print(var)"
   ]
  },
  {
   "cell_type": "code",
   "execution_count": 32,
   "id": "d9290448",
   "metadata": {},
   "outputs": [
    {
     "name": "stdout",
     "output_type": "stream",
     "text": [
      "['apple', 'avacado', 'anar', 'amrud']\n"
     ]
    }
   ],
   "source": [
    "lst = [\"apple\",\"orange\",\"avacado\",\"grapes\",\"anar\",\"banana\",\"amrud\"]\n",
    "var=list(filter(lambda x:x[0]=='a',lst))\n",
    "print(var)"
   ]
  },
  {
   "cell_type": "markdown",
   "id": "9ed59832",
   "metadata": {},
   "source": [
    "reduce()\n",
    "A reduce operation perform a rolling computation to sequential pair of values in a sequence and return the result"
   ]
  },
  {
   "cell_type": "code",
   "execution_count": 33,
   "id": "a5d314ef",
   "metadata": {},
   "outputs": [
    {
     "name": "stdout",
     "output_type": "stream",
     "text": [
      "35\n"
     ]
    }
   ],
   "source": [
    "#return the sum of the list\n",
    "from functools import reduce\n",
    "l=[2,3,4,5,6,7,8]\n",
    "y=reduce(lambda x,y:x+y,l)\n",
    "print(y)"
   ]
  },
  {
   "cell_type": "code",
   "execution_count": 36,
   "id": "69f1c4b7",
   "metadata": {},
   "outputs": [
    {
     "name": "stdout",
     "output_type": "stream",
     "text": [
      "120\n"
     ]
    }
   ],
   "source": [
    "#WAP to find factorial of a no.\n",
    "n = int(input(\"Enter the no.:\"))\n",
    "x= reduce(lambda x,y:x*y,range(1,n+1))\n",
    "print(x)"
   ]
  }
 ],
 "metadata": {
  "kernelspec": {
   "display_name": ".venv",
   "language": "python",
   "name": "python3"
  },
  "language_info": {
   "codemirror_mode": {
    "name": "ipython",
    "version": 3
   },
   "file_extension": ".py",
   "mimetype": "text/x-python",
   "name": "python",
   "nbconvert_exporter": "python",
   "pygments_lexer": "ipython3",
   "version": "3.12.2"
  }
 },
 "nbformat": 4,
 "nbformat_minor": 5
}
