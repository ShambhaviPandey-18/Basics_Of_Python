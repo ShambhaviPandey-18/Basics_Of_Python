{
 "cells": [
  {
   "cell_type": "markdown",
   "id": "35cb0ae8",
   "metadata": {},
   "source": [
    "* Mutable - add and del only.\n",
    "* set is mutable but it stores immutable elements. \n",
    "* set is unordered.\n",
    "* {} are used.\n",
    "* stores unique elements."
   ]
  },
  {
   "cell_type": "code",
   "execution_count": null,
   "id": "e8b2d767",
   "metadata": {},
   "outputs": [],
   "source": [
    "st = set()#empty\n",
    "st = {\"hello\",1,2,3,4,5,6.67}\n",
    " "
   ]
  },
  {
   "cell_type": "code",
   "execution_count": null,
   "id": "d16ac5b0",
   "metadata": {},
   "outputs": [
    {
     "name": "stdout",
     "output_type": "stream",
     "text": [
      "<class 'dict'>\n"
     ]
    }
   ],
   "source": [
    "st = {}\n",
    "print(type(st))# creates empty dictionary"
   ]
  },
  {
   "cell_type": "code",
   "execution_count": null,
   "id": "ca2d27af",
   "metadata": {},
   "outputs": [
    {
     "name": "stdout",
     "output_type": "stream",
     "text": [
      "{1, 2, 3}\n"
     ]
    }
   ],
   "source": [
    "# add() - to add a single element\n",
    "s = {1,2}\n",
    "s.add(3)\n",
    "print(s)"
   ]
  },
  {
   "cell_type": "code",
   "execution_count": null,
   "id": "43088dbe",
   "metadata": {},
   "outputs": [
    {
     "name": "stdout",
     "output_type": "stream",
     "text": [
      "{1, 2, 3, 4, 5}\n"
     ]
    }
   ],
   "source": [
    "# update() - to add multiple elements\n",
    "s = {1,2}\n",
    "s.update([1,2,3,4,5])\n",
    "print(s)\n"
   ]
  },
  {
   "cell_type": "code",
   "execution_count": 6,
   "id": "bb6cf44b",
   "metadata": {},
   "outputs": [
    {
     "name": "stdout",
     "output_type": "stream",
     "text": [
      "{1, 2, 3, 4, 5}\n"
     ]
    },
    {
     "ename": "KeyError",
     "evalue": "6",
     "output_type": "error",
     "traceback": [
      "\u001b[31m---------------------------------------------------------------------------\u001b[39m",
      "\u001b[31mKeyError\u001b[39m                                  Traceback (most recent call last)",
      "\u001b[36mCell\u001b[39m\u001b[36m \u001b[39m\u001b[32mIn[6]\u001b[39m\u001b[32m, line 7\u001b[39m\n\u001b[32m      5\u001b[39m \u001b[38;5;28mprint\u001b[39m(s)\n\u001b[32m      6\u001b[39m s.remove(\u001b[32m4\u001b[39m)\n\u001b[32m----> \u001b[39m\u001b[32m7\u001b[39m \u001b[43ms\u001b[49m\u001b[43m.\u001b[49m\u001b[43mremove\u001b[49m\u001b[43m(\u001b[49m\u001b[32;43m6\u001b[39;49m\u001b[43m)\u001b[49m\n\u001b[32m      8\u001b[39m \u001b[38;5;28mprint\u001b[39m(s)\n",
      "\u001b[31mKeyError\u001b[39m: 6"
     ]
    }
   ],
   "source": [
    "# A particular item can be removed from set - \n",
    "# discard()- doesn't throws an error when the element is not present\n",
    "# remove()- throws an error when element is not present.\n",
    "s = {1,2,3,4,5}\n",
    "print(s)\n",
    "s.remove(4)\n",
    "s.remove(6)\n",
    "print(s)"
   ]
  },
  {
   "cell_type": "code",
   "execution_count": 7,
   "id": "e94ff997",
   "metadata": {},
   "outputs": [
    {
     "name": "stdout",
     "output_type": "stream",
     "text": [
      "{1, 2, 3, 4, 5}\n",
      "{1, 3, 4, 5}\n"
     ]
    }
   ],
   "source": [
    "s = {1,2,3,4,5}\n",
    "print(s)\n",
    "s.discard(2)\n",
    "s.discard(6)\n",
    "print(s)"
   ]
  },
  {
   "cell_type": "code",
   "execution_count": 8,
   "id": "f7b2deee",
   "metadata": {},
   "outputs": [
    {
     "name": "stdout",
     "output_type": "stream",
     "text": [
      "{2, 3, 4, 5}\n",
      "2\n",
      "{3, 4, 5}\n"
     ]
    }
   ],
   "source": [
    "# pop() deletes any element from the set and returns it\n",
    "s = {2,3,4,5}\n",
    "print(s)\n",
    "\n",
    "a = s.pop()\n",
    "print(a)\n",
    "print(s)"
   ]
  },
  {
   "cell_type": "code",
   "execution_count": 9,
   "id": "ae2f9152",
   "metadata": {},
   "outputs": [
    {
     "name": "stdout",
     "output_type": "stream",
     "text": [
      "{1, 2, 3, 4, 5}\n",
      "set()\n"
     ]
    }
   ],
   "source": [
    "# clear()- remove all elements and returns empty set\n",
    "s = {1,2,3,4,5}\n",
    "print(s)\n",
    "s.clear()\n",
    "print(s)"
   ]
  },
  {
   "cell_type": "code",
   "execution_count": null,
   "id": "6fe9e54f",
   "metadata": {},
   "outputs": [],
   "source": [
    "s = {1,2,3,4,5}\n",
    "del s\n",
    "print(s)#throws an error as the set is deleted"
   ]
  },
  {
   "cell_type": "code",
   "execution_count": 1,
   "id": "29b1754c",
   "metadata": {},
   "outputs": [
    {
     "name": "stdout",
     "output_type": "stream",
     "text": [
      "Number of unique characters: 4\n"
     ]
    }
   ],
   "source": [
    "# wap which will take string as input from user and count no. of unique character in string.\n",
    "# Take input from the user\n",
    "input_string = input(\"Enter a string: \")\n",
    "\n",
    "# Initialize an empty set\n",
    "unique_chars = set()\n",
    "\n",
    "# Loop to add characters\n",
    "for char in input_string:\n",
    "    if char not in unique_chars:\n",
    "        unique_chars.add(char)\n",
    "\n",
    "# Display result\n",
    "print(\"Number of unique characters:\", len(unique_chars))"
   ]
  },
  {
   "cell_type": "code",
   "execution_count": 20,
   "id": "41ca05e1",
   "metadata": {},
   "outputs": [
    {
     "name": "stdout",
     "output_type": "stream",
     "text": [
      "Hello are you how they\n"
     ]
    }
   ],
   "source": [
    "# wap to remove the repeating words .\n",
    "s = input(\"Enter the string with multiple words:\")\n",
    "lst = s.split()\n",
    "lst = set(lst)\n",
    "str1 = \" \".join(lst)\n",
    "print(str1)"
   ]
  },
  {
   "cell_type": "code",
   "execution_count": 4,
   "id": "cbb46481",
   "metadata": {},
   "outputs": [
    {
     "name": "stdout",
     "output_type": "stream",
     "text": [
      "['Hello', 'how', 'are', 'you', 'they']\n"
     ]
    }
   ],
   "source": [
    "# remove the same words which are again repeating\n",
    "str = input(\"Enter the string with multiple words:\")\n",
    "a = str.split()\n",
    "b = []\n",
    "for i in a:\n",
    "    if i not in b:\n",
    "        b.append(i)\n",
    "print(b)\n",
    "\n"
   ]
  },
  {
   "cell_type": "code",
   "execution_count": null,
   "id": "140714a3",
   "metadata": {},
   "outputs": [],
   "source": []
  }
 ],
 "metadata": {
  "kernelspec": {
   "display_name": ".venv",
   "language": "python",
   "name": "python3"
  },
  "language_info": {
   "codemirror_mode": {
    "name": "ipython",
    "version": 3
   },
   "file_extension": ".py",
   "mimetype": "text/x-python",
   "name": "python",
   "nbconvert_exporter": "python",
   "pygments_lexer": "ipython3",
   "version": "3.12.2"
  }
 },
 "nbformat": 4,
 "nbformat_minor": 5
}
