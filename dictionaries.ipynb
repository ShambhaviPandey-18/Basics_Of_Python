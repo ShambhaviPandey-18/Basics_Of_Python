{
 "cells": [
  {
   "cell_type": "code",
   "execution_count": 4,
   "id": "626c1454",
   "metadata": {},
   "outputs": [
    {
     "data": {
      "text/plain": [
       "{1: 'name', 2: 'hello', 'name': 'hello', 'list': [1, 2, 3, 4, 5]}"
      ]
     },
     "execution_count": 4,
     "metadata": {},
     "output_type": "execute_result"
    }
   ],
   "source": [
    "#empty dictionary \n",
    "empty_dict = {}\n",
    "empty_dict = dict()\n",
    "\n",
    "\n",
    "my_dict = {1:'name',2 :'hello', 'name': 'hello', 'list' : [1,2,3,4,5]}\n",
    "my_dict\n"
   ]
  },
  {
   "cell_type": "code",
   "execution_count": 9,
   "id": "3b9f1617",
   "metadata": {},
   "outputs": [
    {
     "name": "stdout",
     "output_type": "stream",
     "text": [
      "{1: 'abc', 2: 'cde', 3: 'def'}\n",
      "{1: 'a', 2: 'b', 3: 'c'}\n"
     ]
    }
   ],
   "source": [
    "# converting the list into dict \n",
    "d1 = dict([[1,\"abc\",],[2,'cde'],[3,'def']])\n",
    "print(d1)\n",
    "# converting the tuple into dict \n",
    "d2= dict([{'a',1},{'b',2},{'c',3}])\n",
    "print(d2)\n",
    "# converting the list into dict \n",
    "#tuple of tuple\n",
    "# tuple of set \n"
   ]
  },
  {
   "cell_type": "code",
   "execution_count": 13,
   "id": "3f1d854f",
   "metadata": {},
   "outputs": [
    {
     "name": "stdout",
     "output_type": "stream",
     "text": [
      "Satish\n",
      "jabalpur\n",
      "27\n"
     ]
    }
   ],
   "source": [
    "# dictionary can be accessed by key \n",
    "my_dict = {'name':\"Satish\",'age': 27  ,'address':'jabalpur'}\n",
    "print(my_dict['name'])\n",
    "print(my_dict['address'])\n",
    "print(my_dict['age'])\n",
    "# if key is not present in the dict it will give key error "
   ]
  },
  {
   "cell_type": "code",
   "execution_count": 14,
   "id": "8763c90c",
   "metadata": {},
   "outputs": [
    {
     "name": "stdout",
     "output_type": "stream",
     "text": [
      "None\n"
     ]
    }
   ],
   "source": [
    "# we can access the key by get() also\n",
    "my_dict = {'name':\"Satish\",'age': 27  ,'address':'jabalpur'}\n",
    "print(my_dict.get('degree'))"
   ]
  },
  {
   "cell_type": "code",
   "execution_count": 16,
   "id": "3960c647",
   "metadata": {},
   "outputs": [
    {
     "name": "stdout",
     "output_type": "stream",
     "text": [
      "{'name': 'raju', 'age': 27, 'address': 'jabalpur'}\n",
      "{'name': 'raju', 'age': 27, 'address': 'jabalpur', 'name1': 'rajuuu'}\n"
     ]
    }
   ],
   "source": [
    "#update the value and add the value \n",
    "my_dict = {'name':\"Satish\",'age': 27  ,'address':'jabalpur'}\n",
    "my_dict['name'] = 'raju'\n",
    "print(my_dict)\n",
    "my_dict['name1'] = 'rajuuu'\n",
    "print(my_dict)"
   ]
  },
  {
   "cell_type": "code",
   "execution_count": 18,
   "id": "cd784100",
   "metadata": {},
   "outputs": [
    {
     "name": "stdout",
     "output_type": "stream",
     "text": [
      "27\n",
      "{'name': 'Satish', 'address': 'jabalpur'}\n"
     ]
    }
   ],
   "source": [
    "# delete the key\n",
    "my_dict = {'name':\"Satish\",'age': 27  ,'address':'jabalpur'}\n",
    "print(my_dict.pop('age'))\n",
    "print(my_dict)\n"
   ]
  },
  {
   "cell_type": "code",
   "execution_count": 23,
   "id": "dd7efad8",
   "metadata": {},
   "outputs": [
    {
     "name": "stdout",
     "output_type": "stream",
     "text": [
      "('address', 'jabalpur')\n",
      "{'name': 'Satish', 'age': 27}\n",
      "{'age': 27}\n"
     ]
    }
   ],
   "source": [
    "my_dict = {'name':\"Satish\",'age': 27  ,'address':'jabalpur'}\n",
    "print(my_dict.popitem())\n",
    "print(my_dict)\n",
    "# popitem delete the last key value pair of the dictionary\n",
    "del my_dict['name'] \n",
    "print(my_dict)\n",
    "#del can delete the whole dict or the key value pair"
   ]
  },
  {
   "cell_type": "code",
   "execution_count": 24,
   "id": "d59ab32c",
   "metadata": {},
   "outputs": [
    {
     "name": "stdout",
     "output_type": "stream",
     "text": [
      "{}\n"
     ]
    }
   ],
   "source": [
    "my_dict = {'name':\"Satish\",'age': 27  ,'address':'jabalpur'}\n",
    "my_dict.clear()\n",
    "print(my_dict)\n",
    "# clear delete the whole element of the dictionary "
   ]
  },
  {
   "cell_type": "code",
   "execution_count": null,
   "id": "926c5944",
   "metadata": {},
   "outputs": [
    {
     "name": "stdout",
     "output_type": "stream",
     "text": [
      "[1, 2, 0, 4, 5, 6, 89]\n",
      "[1, 2, 0, 4, 5, 6, 89]\n"
     ]
    }
   ],
   "source": [
    "x  = [1,2,3,4,5,6,89]\n",
    "y = x#shallow copy\n",
    "y[2] = 0\n",
    "print(y)\n",
    "print(x)\n"
   ]
  },
  {
   "cell_type": "code",
   "execution_count": 28,
   "id": "139ffe66",
   "metadata": {},
   "outputs": [
    {
     "name": "stdout",
     "output_type": "stream",
     "text": [
      "[1, 2, 0, 4, 5, 6, 89]\n",
      "[1, 2, 3, 4, 5, 6, 89]\n"
     ]
    }
   ],
   "source": [
    "x  = [1,2,3,4,5,6,89]\n",
    "y = x.copy()# copy\n",
    "y[2] = 0\n",
    "print(y)\n",
    "print(x)"
   ]
  },
  {
   "cell_type": "code",
   "execution_count": 30,
   "id": "976b21d4",
   "metadata": {},
   "outputs": [
    {
     "name": "stdout",
     "output_type": "stream",
     "text": [
      "{'math': 0, 'english': 0, 'hindi': 0}\n"
     ]
    }
   ],
   "source": [
    "# fromkeys(seq ,v)\n",
    "# returns a new dictionary with key from seq and values\n",
    "subject = {}.fromkeys(['math','english','hindi'],0)\n",
    "print(subject)"
   ]
  },
  {
   "cell_type": "code",
   "execution_count": null,
   "id": "41b131ee",
   "metadata": {},
   "outputs": [
    {
     "name": "stdout",
     "output_type": "stream",
     "text": [
      "dict_items([(2, 4), (3, 9), (4, 16), (5, 25)])\n",
      "dict_keys([2, 3, 4, 5])\n",
      "dict_values([4, 9, 16, 25])\n"
     ]
    }
   ],
   "source": [
    "subject = {2:4,3:9,4:16,5:25}\n",
    "print(subject.items())# returns key value pairs for traversing the dict \n",
    "print(subject.keys())# returns keys for traversing the dict \n",
    "print(subject.values())# returns value for traversing the dict \n"
   ]
  },
  {
   "cell_type": "code",
   "execution_count": 38,
   "id": "ef0a75fe",
   "metadata": {},
   "outputs": [
    {
     "name": "stdout",
     "output_type": "stream",
     "text": [
      "4 9 16 25 "
     ]
    }
   ],
   "source": [
    "subject = {2:4,3:9,4:16,5:25}\n",
    "for k in subject .keys():\n",
    "    print(subject[k],end = ' ')\n",
    "# iteration in dict\n"
   ]
  },
  {
   "cell_type": "code",
   "execution_count": 40,
   "id": "35153b22",
   "metadata": {},
   "outputs": [
    {
     "name": "stdout",
     "output_type": "stream",
     "text": [
      "4 9 16 25 "
     ]
    }
   ],
   "source": [
    "subject = {2:4,3:9,4:16,5:25}\n",
    "for v in subject.values():\n",
    "    print(v,end = ' ')"
   ]
  },
  {
   "cell_type": "code",
   "execution_count": 44,
   "id": "56fd107c",
   "metadata": {},
   "outputs": [
    {
     "data": {
      "text/plain": [
       "{3: 10, 4: 7, 8: 10, 9: 16, 12: 35}"
      ]
     },
     "execution_count": 44,
     "metadata": {},
     "output_type": "execute_result"
    }
   ],
   "source": [
    "d = {3:5,4:7, 8:10,9:11,12:35}\n",
    "for k in d.keys():\n",
    "    if k %2!=0:\n",
    "        d[k] +=5\n",
    "d"
   ]
  },
  {
   "cell_type": "code",
   "execution_count": 62,
   "id": "c80eeb13",
   "metadata": {},
   "outputs": [
    {
     "name": "stdout",
     "output_type": "stream",
     "text": [
      "{3: 2, 4: 2, 5: 2, 6: 1}\n"
     ]
    }
   ],
   "source": [
    "d = {3:[1,2,3,4,6],4:[7,8,9,10],5:[2,3,4,7,8],6:[1,3,5,2]}\n",
    "\n",
    "\n",
    "for k,v in d.items():\n",
    "    if k %2!=0:\n",
    "        count_odd= 0\n",
    "        for i in v:\n",
    "            if i%2 != 0:\n",
    "               count_odd += 1\n",
    "        d[k] = count_odd\n",
    "               \n",
    "    elif k%2 ==0:\n",
    "        count_even= 0\n",
    "        for i in v:\n",
    "           if i%2== 0:\n",
    "               count_even += 1 \n",
    "        d[k] = count_even\n",
    "print(d)\n",
    "         "
   ]
  },
  {
   "cell_type": "code",
   "execution_count": 70,
   "id": "86c688f5",
   "metadata": {},
   "outputs": [
    {
     "name": "stdout",
     "output_type": "stream",
     "text": [
      "{3: 2, 5: 4, 7: 2, 2: 2, 8: 1, 9: 1, 10: 1}\n"
     ]
    }
   ],
   "source": [
    "lst = [3,5,7,2,3,5,8,7,9,5,10,5,2]\n",
    "d = {}\n",
    "for i in lst:\n",
    "    d[i] = lst.count(i)\n",
    "print(d)\n",
    "    \n",
    "     "
   ]
  },
  {
   "cell_type": "code",
   "execution_count": 77,
   "id": "e5da362f",
   "metadata": {},
   "outputs": [
    {
     "name": "stdout",
     "output_type": "stream",
     "text": [
      "15 25\n",
      "7 89\n"
     ]
    }
   ],
   "source": [
    "d = {3:5,4:7,5:9,15:25,7:89}\n",
    "x = max(d.keys())\n",
    "print(x,d[x])\n",
    "k1,v1 = 3,5\n",
    "for k,v in d.items():\n",
    "    if v > v1:\n",
    "        k1 = k \n",
    "        v1 = v\n",
    "print(k1,v1)"
   ]
  },
  {
   "cell_type": "markdown",
   "id": "3ff311dc",
   "metadata": {},
   "source": [
    "# dict comprehension"
   ]
  },
  {
   "cell_type": "code",
   "execution_count": 79,
   "id": "15e126b0",
   "metadata": {},
   "outputs": [
    {
     "name": "stdout",
     "output_type": "stream",
     "text": [
      "{15: 25, 7: 89}\n"
     ]
    }
   ],
   "source": [
    "d = {3:5,4:7,5:9,15:25,7:89}\n",
    "d1 = {k:v for k,v in d.items() if v >12}\n",
    "print(d1)"
   ]
  },
  {
   "cell_type": "code",
   "execution_count": 87,
   "id": "9dbd59e3",
   "metadata": {},
   "outputs": [
    {
     "data": {
      "text/plain": [
       "{'cc': 6, 'dc': 8, 'ec': 10}"
      ]
     },
     "execution_count": 87,
     "metadata": {},
     "output_type": "execute_result"
    }
   ],
   "source": [
    "d = {'a':1,'b':2, 'c':3,'d':4,'e':5}\n",
    "d1 = {k+'c':v*2 for k,v in d.items() if v >2}\n",
    "d1"
   ]
  },
  {
   "cell_type": "code",
   "execution_count": 89,
   "id": "4d9a09a8",
   "metadata": {},
   "outputs": [
    {
     "data": {
      "text/plain": [
       "{3: 16, 4: 34, 5: 24, 6: 11}"
      ]
     },
     "execution_count": 89,
     "metadata": {},
     "output_type": "execute_result"
    }
   ],
   "source": [
    "d = {3:[1,2,3,4,6],4:[7,8,9,10],5: [2,3,4,7,8],6:[1,3,5,2]}\n",
    "d1= {k: sum(v) for k,v in d.items()}\n",
    "d1"
   ]
  },
  {
   "cell_type": "code",
   "execution_count": 1,
   "id": "30364729",
   "metadata": {},
   "outputs": [
    {
     "name": "stdout",
     "output_type": "stream",
     "text": [
      "{3: 16, 4: 34, 5: 24, 6: 11}\n"
     ]
    }
   ],
   "source": [
    "d = {3:[1,2,3,4,6],4:[7,8,9,10],5: [2,3,4,7,8],6:[1,3,5,2]}\n",
    "for  k in d.keys():\n",
    "    d[k] = sum(d[k])\n",
    "    \n",
    "print(d)"
   ]
  },
  {
   "cell_type": "code",
   "execution_count": 2,
   "id": "03a26f66",
   "metadata": {},
   "outputs": [
    {
     "name": "stdout",
     "output_type": "stream",
     "text": [
      "{3: [2, 3, 4, 5, 7], 4: [8, 9, 10, 11], 5: [3, 4, 5, 8, 9], 6: [2, 4, 6, 3]}\n"
     ]
    }
   ],
   "source": [
    "d = {3:[1,2,3,4,6],4:[7,8,9,10],5: [2,3,4,7,8],6:[1,3,5,2]}\n",
    "for k,v in d.items():\n",
    "    d[k] = [i+1 for i in v]\n",
    "print(d)"
   ]
  },
  {
   "cell_type": "code",
   "execution_count": null,
   "id": "99425dd0",
   "metadata": {},
   "outputs": [],
   "source": []
  }
 ],
 "metadata": {
  "kernelspec": {
   "display_name": "Python 3",
   "language": "python",
   "name": "python3"
  },
  "language_info": {
   "codemirror_mode": {
    "name": "ipython",
    "version": 3
   },
   "file_extension": ".py",
   "mimetype": "text/x-python",
   "name": "python",
   "nbconvert_exporter": "python",
   "pygments_lexer": "ipython3",
   "version": "3.13.2"
  }
 },
 "nbformat": 4,
 "nbformat_minor": 5
}
